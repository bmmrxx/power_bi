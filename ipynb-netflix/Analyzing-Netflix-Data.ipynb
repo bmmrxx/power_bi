{
 "cells": [
  {
   "cell_type": "markdown",
   "metadata": {},
   "source": [
    "# Analysing my Netflix data"
   ]
  },
  {
   "cell_type": "code",
   "execution_count": 211,
   "metadata": {},
   "outputs": [],
   "source": [
    "import pandas as pd\n",
    "import seaborn as sns\n",
    "import matplotlib.pyplot as plt\n",
    "import matplotlib.colors as mcolors\n",
    "import numpy as np"
   ]
  },
  {
   "cell_type": "markdown",
   "metadata": {},
   "source": [
    "What I would like to find out"
   ]
  },
  {
   "cell_type": "markdown",
   "metadata": {},
   "source": [
    "* Which Profile watched the most (time)?\n",
    "* Which Profile has the most watching activities/interactions?\n",
    "* What is the average watching time (per Profile)?\n",
    "* What devices are used by which Profile? And which device is used the most?\n",
    "* Witch type of video?"
   ]
  },
  {
   "cell_type": "markdown",
   "metadata": {},
   "source": [
    "Loading the data"
   ]
  },
  {
   "cell_type": "code",
   "execution_count": 212,
   "metadata": {},
   "outputs": [
    {
     "data": {
      "text/html": [
       "<div>\n",
       "<style scoped>\n",
       "    .dataframe tbody tr th:only-of-type {\n",
       "        vertical-align: middle;\n",
       "    }\n",
       "\n",
       "    .dataframe tbody tr th {\n",
       "        vertical-align: top;\n",
       "    }\n",
       "\n",
       "    .dataframe thead th {\n",
       "        text-align: right;\n",
       "    }\n",
       "</style>\n",
       "<table border=\"1\" class=\"dataframe\">\n",
       "  <thead>\n",
       "    <tr style=\"text-align: right;\">\n",
       "      <th></th>\n",
       "      <th>Profile Name</th>\n",
       "      <th>Start Time</th>\n",
       "      <th>Duration</th>\n",
       "      <th>Attributes</th>\n",
       "      <th>Title</th>\n",
       "      <th>Supplemental Video Type</th>\n",
       "      <th>Device Type</th>\n",
       "      <th>Bookmark</th>\n",
       "      <th>Latest Bookmark</th>\n",
       "      <th>Country</th>\n",
       "    </tr>\n",
       "  </thead>\n",
       "  <tbody>\n",
       "    <tr>\n",
       "      <th>0</th>\n",
       "      <td>Boo</td>\n",
       "      <td>2023-08-21 10:33:44</td>\n",
       "      <td>00:16:45</td>\n",
       "      <td>NaN</td>\n",
       "      <td>Sweet Tooth: Seizoen 2: In Captivity (Afleveri...</td>\n",
       "      <td>NaN</td>\n",
       "      <td>Chrome PC (Cadmium)</td>\n",
       "      <td>00:34:01</td>\n",
       "      <td>00:34:01</td>\n",
       "      <td>NL (Netherlands)</td>\n",
       "    </tr>\n",
       "    <tr>\n",
       "      <th>1</th>\n",
       "      <td>Boo</td>\n",
       "      <td>2023-08-21 10:08:56</td>\n",
       "      <td>00:17:04</td>\n",
       "      <td>NaN</td>\n",
       "      <td>Sweet Tooth: Seizoen 2: In Captivity (Afleveri...</td>\n",
       "      <td>NaN</td>\n",
       "      <td>Chrome PC (Cadmium)</td>\n",
       "      <td>00:17:16</td>\n",
       "      <td>Not latest view</td>\n",
       "      <td>NL (Netherlands)</td>\n",
       "    </tr>\n",
       "    <tr>\n",
       "      <th>2</th>\n",
       "      <td>Boo</td>\n",
       "      <td>2023-08-21 10:05:46</td>\n",
       "      <td>00:03:09</td>\n",
       "      <td>NaN</td>\n",
       "      <td>Seizoen 1 (Overzicht): Sweet Tooth</td>\n",
       "      <td>RECAP</td>\n",
       "      <td>Chrome PC (Cadmium)</td>\n",
       "      <td>00:03:09</td>\n",
       "      <td>00:03:09</td>\n",
       "      <td>NL (Netherlands)</td>\n",
       "    </tr>\n",
       "    <tr>\n",
       "      <th>3</th>\n",
       "      <td>Boo</td>\n",
       "      <td>2023-08-21 10:05:20</td>\n",
       "      <td>00:00:12</td>\n",
       "      <td>NaN</td>\n",
       "      <td>Sweet Tooth: Seizoen 2: In Captivity (Afleveri...</td>\n",
       "      <td>NaN</td>\n",
       "      <td>Chrome PC (Cadmium)</td>\n",
       "      <td>00:00:12</td>\n",
       "      <td>Not latest view</td>\n",
       "      <td>NL (Netherlands)</td>\n",
       "    </tr>\n",
       "    <tr>\n",
       "      <th>4</th>\n",
       "      <td>Boo</td>\n",
       "      <td>2023-07-03 11:31:38</td>\n",
       "      <td>00:00:05</td>\n",
       "      <td>Autoplayed: user action: None;</td>\n",
       "      <td>Is It Cake, Too? Cliffhanger Clip</td>\n",
       "      <td>HOOK</td>\n",
       "      <td>Chrome PC (Cadmium)</td>\n",
       "      <td>00:00:05</td>\n",
       "      <td>00:00:05</td>\n",
       "      <td>NL (Netherlands)</td>\n",
       "    </tr>\n",
       "  </tbody>\n",
       "</table>\n",
       "</div>"
      ],
      "text/plain": [
       "  Profile Name           Start Time  Duration  \\\n",
       "0          Boo  2023-08-21 10:33:44  00:16:45   \n",
       "1          Boo  2023-08-21 10:08:56  00:17:04   \n",
       "2          Boo  2023-08-21 10:05:46  00:03:09   \n",
       "3          Boo  2023-08-21 10:05:20  00:00:12   \n",
       "4          Boo  2023-07-03 11:31:38  00:00:05   \n",
       "\n",
       "                        Attributes  \\\n",
       "0                              NaN   \n",
       "1                              NaN   \n",
       "2                              NaN   \n",
       "3                              NaN   \n",
       "4  Autoplayed: user action: None;    \n",
       "\n",
       "                                               Title Supplemental Video Type  \\\n",
       "0  Sweet Tooth: Seizoen 2: In Captivity (Afleveri...                     NaN   \n",
       "1  Sweet Tooth: Seizoen 2: In Captivity (Afleveri...                     NaN   \n",
       "2                 Seizoen 1 (Overzicht): Sweet Tooth                   RECAP   \n",
       "3  Sweet Tooth: Seizoen 2: In Captivity (Afleveri...                     NaN   \n",
       "4                  Is It Cake, Too? Cliffhanger Clip                    HOOK   \n",
       "\n",
       "           Device Type  Bookmark  Latest Bookmark           Country  \n",
       "0  Chrome PC (Cadmium)  00:34:01         00:34:01  NL (Netherlands)  \n",
       "1  Chrome PC (Cadmium)  00:17:16  Not latest view  NL (Netherlands)  \n",
       "2  Chrome PC (Cadmium)  00:03:09         00:03:09  NL (Netherlands)  \n",
       "3  Chrome PC (Cadmium)  00:00:12  Not latest view  NL (Netherlands)  \n",
       "4  Chrome PC (Cadmium)  00:00:05         00:00:05  NL (Netherlands)  "
      ]
     },
     "execution_count": 212,
     "metadata": {},
     "output_type": "execute_result"
    }
   ],
   "source": [
    "df = pd.read_csv('ViewingActivity.csv')\n",
    "df.head()"
   ]
  },
  {
   "cell_type": "markdown",
   "metadata": {},
   "source": [
    "Witch profiles are there?"
   ]
  },
  {
   "cell_type": "code",
   "execution_count": 213,
   "metadata": {},
   "outputs": [
    {
     "data": {
      "text/plain": [
       "array(['Boo', 'Finn', 'Marja', 'Marjanne', 'Ronald '], dtype=object)"
      ]
     },
     "execution_count": 213,
     "metadata": {},
     "output_type": "execute_result"
    }
   ],
   "source": [
    "df[\"Profile Name\"].unique()"
   ]
  },
  {
   "cell_type": "markdown",
   "metadata": {},
   "source": [
    "Witch divices are used?"
   ]
  },
  {
   "cell_type": "code",
   "execution_count": 214,
   "metadata": {},
   "outputs": [
    {
     "data": {
      "text/plain": [
       "array(['Chrome PC (Cadmium)', 'Apple iPad 10.2 inch 8th Gen Wi-Fi iPad',\n",
       "       'Edge OSS - Windows (Cadmium)', 'Apple TV 3 (revised)',\n",
       "       'Apple iPad 5th Gen (Wi-Fi) iPad',\n",
       "       'Samsung 2016 Jazz-L UHD TV Smart TV',\n",
       "       'KPN KPNBroadcom Set Top Box',\n",
       "       'Google Chromecast V3 Streaming Stick', 'Apple iPhone 6',\n",
       "       'Apple iPad 2 WiFi', 'iPhone 5S CDMA',\n",
       "       'Apple iPad 3rd Gen (Wi-Fi Only) iPad', 'iPad Air Wi-Fi',\n",
       "       'Panasonic BD 2014 MT8561 Blu-ray Player',\n",
       "       'Google Sabrina ATV Set Top Box', 'Apple iPhone SE Gen 2 iPhone',\n",
       "       'KPN BCM72604 MVPD STB', 'Apple iPhone 7 (GSM)',\n",
       "       'Google Chromecast V5 Streaming Stick',\n",
       "       'LG 2018 LG O18 UHD TV Smart TV', 'Apple iPhone 4S',\n",
       "       'LG 2018 Mstar LM18A STD UHD TV Smart TV', 'Apple iPhone 11',\n",
       "       'Apple iPad Air 4th Gen Wi-Fi iPad'], dtype=object)"
      ]
     },
     "execution_count": 214,
     "metadata": {},
     "output_type": "execute_result"
    }
   ],
   "source": [
    "df[\"Device Type\"].unique()"
   ]
  },
  {
   "cell_type": "markdown",
   "metadata": {},
   "source": [
    "Diffrent data types"
   ]
  },
  {
   "cell_type": "code",
   "execution_count": 215,
   "metadata": {},
   "outputs": [
    {
     "data": {
      "text/plain": [
       "Profile Name               object\n",
       "Start Time                 object\n",
       "Duration                   object\n",
       "Attributes                 object\n",
       "Title                      object\n",
       "Supplemental Video Type    object\n",
       "Device Type                object\n",
       "Bookmark                   object\n",
       "Latest Bookmark            object\n",
       "Country                    object\n",
       "dtype: object"
      ]
     },
     "execution_count": 215,
     "metadata": {},
     "output_type": "execute_result"
    }
   ],
   "source": [
    "df.dtypes"
   ]
  },
  {
   "cell_type": "markdown",
   "metadata": {},
   "source": [
    "Transforming the vieuwing times"
   ]
  },
  {
   "cell_type": "code",
   "execution_count": 216,
   "metadata": {},
   "outputs": [
    {
     "data": {
      "text/plain": [
       "Profile Name                            object\n",
       "Start Time                 datetime64[ns, UTC]\n",
       "Duration                       timedelta64[ns]\n",
       "Attributes                              object\n",
       "Title                                   object\n",
       "Supplemental Video Type                 object\n",
       "Device Type                             object\n",
       "Bookmark                                object\n",
       "Latest Bookmark                         object\n",
       "Country                                 object\n",
       "dtype: object"
      ]
     },
     "execution_count": 216,
     "metadata": {},
     "output_type": "execute_result"
    }
   ],
   "source": [
    "df['Start Time'] = pd.to_datetime(df['Start Time'], utc=True)\n",
    "df['Duration'] = pd.to_timedelta(df['Duration'])\n",
    "df.dtypes"
   ]
  },
  {
   "cell_type": "markdown",
   "metadata": {},
   "source": [
    "Sample of the new start and duration times"
   ]
  },
  {
   "cell_type": "code",
   "execution_count": 217,
   "metadata": {},
   "outputs": [
    {
     "data": {
      "text/html": [
       "<div>\n",
       "<style scoped>\n",
       "    .dataframe tbody tr th:only-of-type {\n",
       "        vertical-align: middle;\n",
       "    }\n",
       "\n",
       "    .dataframe tbody tr th {\n",
       "        vertical-align: top;\n",
       "    }\n",
       "\n",
       "    .dataframe thead th {\n",
       "        text-align: right;\n",
       "    }\n",
       "</style>\n",
       "<table border=\"1\" class=\"dataframe\">\n",
       "  <thead>\n",
       "    <tr style=\"text-align: right;\">\n",
       "      <th></th>\n",
       "      <th>Profile Name</th>\n",
       "      <th>Start Time</th>\n",
       "      <th>Duration</th>\n",
       "      <th>Attributes</th>\n",
       "      <th>Title</th>\n",
       "      <th>Supplemental Video Type</th>\n",
       "      <th>Device Type</th>\n",
       "      <th>Bookmark</th>\n",
       "      <th>Latest Bookmark</th>\n",
       "      <th>Country</th>\n",
       "    </tr>\n",
       "  </thead>\n",
       "  <tbody>\n",
       "    <tr>\n",
       "      <th>8100</th>\n",
       "      <td>Finn</td>\n",
       "      <td>2019-10-10 19:47:34+00:00</td>\n",
       "      <td>0 days 00:47:05</td>\n",
       "      <td>NaN</td>\n",
       "      <td>From Dusk Till Dawn: Seizoen 1: Let's Get Ramb...</td>\n",
       "      <td>NaN</td>\n",
       "      <td>Apple iPhone 6</td>\n",
       "      <td>00:47:38</td>\n",
       "      <td>00:47:38</td>\n",
       "      <td>NL (Netherlands)</td>\n",
       "    </tr>\n",
       "    <tr>\n",
       "      <th>17690</th>\n",
       "      <td>Marjanne</td>\n",
       "      <td>2022-11-17 12:56:57+00:00</td>\n",
       "      <td>0 days 00:00:48</td>\n",
       "      <td>Autoplayed: user action: None;</td>\n",
       "      <td>Our Souls at Night (Trailer)</td>\n",
       "      <td>TRAILER</td>\n",
       "      <td>LG 2018 Mstar LM18A STD UHD TV Smart TV</td>\n",
       "      <td>00:00:48</td>\n",
       "      <td>Not latest view</td>\n",
       "      <td>NL (Netherlands)</td>\n",
       "    </tr>\n",
       "    <tr>\n",
       "      <th>3314</th>\n",
       "      <td>Boo</td>\n",
       "      <td>2019-10-26 19:21:35+00:00</td>\n",
       "      <td>0 days 01:34:48</td>\n",
       "      <td>NaN</td>\n",
       "      <td>In the Tall Grass</td>\n",
       "      <td>NaN</td>\n",
       "      <td>Apple TV 3 (revised)</td>\n",
       "      <td>01:34:48</td>\n",
       "      <td>01:34:48</td>\n",
       "      <td>NL (Netherlands)</td>\n",
       "    </tr>\n",
       "    <tr>\n",
       "      <th>8956</th>\n",
       "      <td>Finn</td>\n",
       "      <td>2019-06-03 18:18:46+00:00</td>\n",
       "      <td>0 days 00:41:43</td>\n",
       "      <td>NaN</td>\n",
       "      <td>The Vampire Diaries: Seizoen 5: The Devil Insi...</td>\n",
       "      <td>NaN</td>\n",
       "      <td>Apple TV 3 (revised)</td>\n",
       "      <td>00:42:00</td>\n",
       "      <td>00:42:00</td>\n",
       "      <td>NL (Netherlands)</td>\n",
       "    </tr>\n",
       "    <tr>\n",
       "      <th>7513</th>\n",
       "      <td>Finn</td>\n",
       "      <td>2020-12-20 16:51:01+00:00</td>\n",
       "      <td>0 days 00:00:49</td>\n",
       "      <td>NaN</td>\n",
       "      <td>Outlander: Seizoen 1: Sassenach (Aflevering 1)</td>\n",
       "      <td>NaN</td>\n",
       "      <td>Apple TV 3 (revised)</td>\n",
       "      <td>01:02:21</td>\n",
       "      <td>01:02:21</td>\n",
       "      <td>NL (Netherlands)</td>\n",
       "    </tr>\n",
       "    <tr>\n",
       "      <th>19483</th>\n",
       "      <td>Ronald</td>\n",
       "      <td>2020-12-20 13:08:41+00:00</td>\n",
       "      <td>0 days 01:50:32</td>\n",
       "      <td>NaN</td>\n",
       "      <td>Nocturnal Animals</td>\n",
       "      <td>NaN</td>\n",
       "      <td>Samsung 2016 Jazz-L UHD TV Smart TV</td>\n",
       "      <td>01:50:32</td>\n",
       "      <td>01:50:32</td>\n",
       "      <td>NL (Netherlands)</td>\n",
       "    </tr>\n",
       "    <tr>\n",
       "      <th>13952</th>\n",
       "      <td>Finn</td>\n",
       "      <td>2017-05-22 15:04:55+00:00</td>\n",
       "      <td>0 days 00:25:15</td>\n",
       "      <td>NaN</td>\n",
       "      <td>Sherlock: Seizoen 1: The Great Game (Afleverin...</td>\n",
       "      <td>NaN</td>\n",
       "      <td>Samsung 2016 Jazz-L UHD TV Smart TV</td>\n",
       "      <td>01:29:11</td>\n",
       "      <td>Not latest view</td>\n",
       "      <td>NL (Netherlands)</td>\n",
       "    </tr>\n",
       "    <tr>\n",
       "      <th>19531</th>\n",
       "      <td>Ronald</td>\n",
       "      <td>2020-11-30 22:28:36+00:00</td>\n",
       "      <td>0 days 00:09:29</td>\n",
       "      <td>Autoplayed: user action: Unspecified;</td>\n",
       "      <td>Big Fish</td>\n",
       "      <td>NaN</td>\n",
       "      <td>Samsung 2016 Jazz-L UHD TV Smart TV</td>\n",
       "      <td>00:09:29</td>\n",
       "      <td>00:09:29</td>\n",
       "      <td>NL (Netherlands)</td>\n",
       "    </tr>\n",
       "    <tr>\n",
       "      <th>20683</th>\n",
       "      <td>Ronald</td>\n",
       "      <td>2019-08-16 13:04:15+00:00</td>\n",
       "      <td>0 days 00:50:33</td>\n",
       "      <td>Autoplayed: user action: Unspecified;</td>\n",
       "      <td>Star Trek: Seizoen 1: The City on the Edge of ...</td>\n",
       "      <td>NaN</td>\n",
       "      <td>Samsung 2016 Jazz-L UHD TV Smart TV</td>\n",
       "      <td>00:49:50</td>\n",
       "      <td>00:49:50</td>\n",
       "      <td>NL (Netherlands)</td>\n",
       "    </tr>\n",
       "    <tr>\n",
       "      <th>12242</th>\n",
       "      <td>Finn</td>\n",
       "      <td>2018-01-20 10:46:31+00:00</td>\n",
       "      <td>0 days 00:00:59</td>\n",
       "      <td>NaN</td>\n",
       "      <td>White Collar: Seizoen 4: Brass Tacks (Afleveri...</td>\n",
       "      <td>NaN</td>\n",
       "      <td>Apple iPad 2 WiFi</td>\n",
       "      <td>00:42:31</td>\n",
       "      <td>00:42:31</td>\n",
       "      <td>NL (Netherlands)</td>\n",
       "    </tr>\n",
       "  </tbody>\n",
       "</table>\n",
       "</div>"
      ],
      "text/plain": [
       "      Profile Name                Start Time        Duration  \\\n",
       "8100          Finn 2019-10-10 19:47:34+00:00 0 days 00:47:05   \n",
       "17690     Marjanne 2022-11-17 12:56:57+00:00 0 days 00:00:48   \n",
       "3314           Boo 2019-10-26 19:21:35+00:00 0 days 01:34:48   \n",
       "8956          Finn 2019-06-03 18:18:46+00:00 0 days 00:41:43   \n",
       "7513          Finn 2020-12-20 16:51:01+00:00 0 days 00:00:49   \n",
       "19483      Ronald  2020-12-20 13:08:41+00:00 0 days 01:50:32   \n",
       "13952         Finn 2017-05-22 15:04:55+00:00 0 days 00:25:15   \n",
       "19531      Ronald  2020-11-30 22:28:36+00:00 0 days 00:09:29   \n",
       "20683      Ronald  2019-08-16 13:04:15+00:00 0 days 00:50:33   \n",
       "12242         Finn 2018-01-20 10:46:31+00:00 0 days 00:00:59   \n",
       "\n",
       "                                   Attributes  \\\n",
       "8100                                      NaN   \n",
       "17690         Autoplayed: user action: None;    \n",
       "3314                                      NaN   \n",
       "8956                                      NaN   \n",
       "7513                                      NaN   \n",
       "19483                                     NaN   \n",
       "13952                                     NaN   \n",
       "19531  Autoplayed: user action: Unspecified;    \n",
       "20683  Autoplayed: user action: Unspecified;    \n",
       "12242                                     NaN   \n",
       "\n",
       "                                                   Title  \\\n",
       "8100   From Dusk Till Dawn: Seizoen 1: Let's Get Ramb...   \n",
       "17690                       Our Souls at Night (Trailer)   \n",
       "3314                                   In the Tall Grass   \n",
       "8956   The Vampire Diaries: Seizoen 5: The Devil Insi...   \n",
       "7513      Outlander: Seizoen 1: Sassenach (Aflevering 1)   \n",
       "19483                                  Nocturnal Animals   \n",
       "13952  Sherlock: Seizoen 1: The Great Game (Afleverin...   \n",
       "19531                                           Big Fish   \n",
       "20683  Star Trek: Seizoen 1: The City on the Edge of ...   \n",
       "12242  White Collar: Seizoen 4: Brass Tacks (Afleveri...   \n",
       "\n",
       "      Supplemental Video Type                              Device Type  \\\n",
       "8100                      NaN                           Apple iPhone 6   \n",
       "17690                 TRAILER  LG 2018 Mstar LM18A STD UHD TV Smart TV   \n",
       "3314                      NaN                     Apple TV 3 (revised)   \n",
       "8956                      NaN                     Apple TV 3 (revised)   \n",
       "7513                      NaN                     Apple TV 3 (revised)   \n",
       "19483                     NaN      Samsung 2016 Jazz-L UHD TV Smart TV   \n",
       "13952                     NaN      Samsung 2016 Jazz-L UHD TV Smart TV   \n",
       "19531                     NaN      Samsung 2016 Jazz-L UHD TV Smart TV   \n",
       "20683                     NaN      Samsung 2016 Jazz-L UHD TV Smart TV   \n",
       "12242                     NaN                        Apple iPad 2 WiFi   \n",
       "\n",
       "       Bookmark  Latest Bookmark           Country  \n",
       "8100   00:47:38         00:47:38  NL (Netherlands)  \n",
       "17690  00:00:48  Not latest view  NL (Netherlands)  \n",
       "3314   01:34:48         01:34:48  NL (Netherlands)  \n",
       "8956   00:42:00         00:42:00  NL (Netherlands)  \n",
       "7513   01:02:21         01:02:21  NL (Netherlands)  \n",
       "19483  01:50:32         01:50:32  NL (Netherlands)  \n",
       "13952  01:29:11  Not latest view  NL (Netherlands)  \n",
       "19531  00:09:29         00:09:29  NL (Netherlands)  \n",
       "20683  00:49:50         00:49:50  NL (Netherlands)  \n",
       "12242  00:42:31         00:42:31  NL (Netherlands)  "
      ]
     },
     "execution_count": 217,
     "metadata": {},
     "output_type": "execute_result"
    }
   ],
   "source": [
    "df.sample(n=10) "
   ]
  },
  {
   "cell_type": "markdown",
   "metadata": {},
   "source": [
    "Which Profile has the most watching activities/interactions?"
   ]
  },
  {
   "cell_type": "code",
   "execution_count": 218,
   "metadata": {},
   "outputs": [
    {
     "data": {
      "text/plain": [
       "Profile Name  Start Time                 Duration         Attributes                       Title                                                  Supplemental Video Type  Device Type                          Bookmark  Latest Bookmark  Country         \n",
       "Boo           2022-09-09 21:06:23+00:00  0 days 00:00:04  Autoplayed: user action: None;   Seizoen 1 (Clip): Worst Roommate Ever                  HOOK                     Edge OSS - Windows (Cadmium)         00:00:04  Not latest view  NL (Netherlands)    1\n",
       "Marja         2023-01-15 09:23:29+00:00  0 days 00:00:04  Autoplayed: user action: None;   Miniserie (Clip): Treason                              HOOK                     LG 2018 LG O18 UHD TV Smart TV       00:00:04  00:00:04         NL (Netherlands)    1\n",
       "              2022-12-25 08:58:43+00:00  0 days 00:00:12  Autoplayed: user action: None;   Seizoen 1 (Trailer): In From the Cold                  TRAILER                  LG 2018 LG O18 UHD TV Smart TV       00:00:12  00:00:12         NL (Netherlands)    1\n",
       "              2022-12-25 08:59:00+00:00  0 days 00:00:06  Autoplayed: user action: None;   Shooter: Shooter: Season 1_hook_02_16x9                HOOK                     LG 2018 LG O18 UHD TV Smart TV       00:00:06  00:00:06         NL (Netherlands)    1\n",
       "              2022-12-25 09:00:17+00:00  0 days 00:00:08  Autoplayed: user action: None;   Seizoen 1 (Trailer): PIECES OF HER                     TRAILER                  LG 2018 LG O18 UHD TV Smart TV       00:00:08  00:00:08         NL (Netherlands)    1\n",
       "                                                                                                                                                                                                                                                              ..\n",
       "Finn          2022-10-10 19:12:52+00:00  0 days 00:01:41  Autoplayed: user action: None;   Julie and the Phantoms: Season 1 - Hook Clip - Bright  HOOK                     Chrome PC (Cadmium)                  00:01:41  Not latest view  NL (Netherlands)    1\n",
       "              2022-10-10 20:26:48+00:00  0 days 00:01:50  Autoplayed: user action: None;   Anne met een e (Trailer)                               TRAILER                  Chrome PC (Cadmium)                  00:01:51  Not latest view  NL (Netherlands)    1\n",
       "              2022-10-10 20:29:06+00:00  0 days 00:00:52  Autoplayed: user action: None;   Miniserie (Clip): Colin in Black & White               HOOK                     Chrome PC (Cadmium)                  00:00:52  Not latest view  NL (Netherlands)    1\n",
       "              2022-10-10 20:30:49+00:00  0 days 00:00:08  Autoplayed: user action: None;   Seizoen 1 (Trailer): Dive Club                         TRAILER                  Chrome PC (Cadmium)                  00:00:08  00:00:08         NL (Netherlands)    1\n",
       "Ronald        2023-07-05 16:37:37+00:00  0 days 00:00:09  Autoplayed: user action: None;   Seizoen 1 (Trailer): Black Knight                      TRAILER                  Samsung 2016 Jazz-L UHD TV Smart TV  00:00:09  00:00:09         NL (Netherlands)    1\n",
       "Length: 677, dtype: int64"
      ]
     },
     "execution_count": 218,
     "metadata": {},
     "output_type": "execute_result"
    }
   ],
   "source": [
    "df.value_counts()"
   ]
  },
  {
   "cell_type": "markdown",
   "metadata": {},
   "source": [
    "Visualizing the data"
   ]
  },
  {
   "cell_type": "code",
   "execution_count": 219,
   "metadata": {},
   "outputs": [
    {
     "data": {
      "image/png": "[encoded data removed]",
      "text/plain": [
       "<Figure size 640x480 with 1 Axes>"
      ]
     },
     "metadata": {},
     "output_type": "display_data"
    }
   ],
   "source": [
    "%matplotlib inline\n",
    "import matplotlib\n",
    "import matplotlib.pyplot as plt\n",
    "df['Profile Name'].value_counts().plot(kind='bar')\n",
    "plt.show()"
   ]
  },
  {
   "cell_type": "markdown",
   "metadata": {},
   "source": [
    "What is the total watch time?"
   ]
  },
  {
   "cell_type": "code",
   "execution_count": 220,
   "metadata": {},
   "outputs": [
    {
     "data": {
      "text/plain": [
       "Timedelta('364 days 23:41:52')"
      ]
     },
     "execution_count": 220,
     "metadata": {},
     "output_type": "execute_result"
    }
   ],
   "source": [
    "df['Duration'].sum()"
   ]
  },
  {
   "cell_type": "markdown",
   "metadata": {},
   "source": [
    "Period of given data"
   ]
  },
  {
   "cell_type": "code",
   "execution_count": 221,
   "metadata": {},
   "outputs": [
    {
     "data": {
      "text/html": [
       "<div>\n",
       "<style scoped>\n",
       "    .dataframe tbody tr th:only-of-type {\n",
       "        vertical-align: middle;\n",
       "    }\n",
       "\n",
       "    .dataframe tbody tr th {\n",
       "        vertical-align: top;\n",
       "    }\n",
       "\n",
       "    .dataframe thead th {\n",
       "        text-align: right;\n",
       "    }\n",
       "</style>\n",
       "<table border=\"1\" class=\"dataframe\">\n",
       "  <thead>\n",
       "    <tr style=\"text-align: right;\">\n",
       "      <th></th>\n",
       "      <th>Profile Name</th>\n",
       "      <th>Start Time</th>\n",
       "      <th>Duration</th>\n",
       "      <th>Attributes</th>\n",
       "      <th>Title</th>\n",
       "      <th>Supplemental Video Type</th>\n",
       "      <th>Device Type</th>\n",
       "      <th>Bookmark</th>\n",
       "      <th>Latest Bookmark</th>\n",
       "      <th>Country</th>\n",
       "    </tr>\n",
       "  </thead>\n",
       "  <tbody>\n",
       "    <tr>\n",
       "      <th>17612</th>\n",
       "      <td>Marja</td>\n",
       "      <td>2015-05-01 09:57:47+00:00</td>\n",
       "      <td>0 days 00:13:16</td>\n",
       "      <td>NaN</td>\n",
       "      <td>Maleficent</td>\n",
       "      <td>NaN</td>\n",
       "      <td>Panasonic BD 2014 MT8561 Blu-ray Player</td>\n",
       "      <td>00:09:06</td>\n",
       "      <td>Not latest view</td>\n",
       "      <td>NL (Netherlands)</td>\n",
       "    </tr>\n",
       "    <tr>\n",
       "      <th>17611</th>\n",
       "      <td>Marja</td>\n",
       "      <td>2015-05-01 10:23:55+00:00</td>\n",
       "      <td>0 days 00:01:11</td>\n",
       "      <td>NaN</td>\n",
       "      <td>Monsters University</td>\n",
       "      <td>NaN</td>\n",
       "      <td>Panasonic BD 2014 MT8561 Blu-ray Player</td>\n",
       "      <td>00:01:11</td>\n",
       "      <td>Not latest view</td>\n",
       "      <td>NL (Netherlands)</td>\n",
       "    </tr>\n",
       "    <tr>\n",
       "      <th>17610</th>\n",
       "      <td>Marja</td>\n",
       "      <td>2015-05-01 10:25:21+00:00</td>\n",
       "      <td>0 days 00:00:05</td>\n",
       "      <td>NaN</td>\n",
       "      <td>Monsters University</td>\n",
       "      <td>NaN</td>\n",
       "      <td>Panasonic BD 2014 MT8561 Blu-ray Player</td>\n",
       "      <td>00:00:05</td>\n",
       "      <td>Not latest view</td>\n",
       "      <td>NL (Netherlands)</td>\n",
       "    </tr>\n",
       "    <tr>\n",
       "      <th>17609</th>\n",
       "      <td>Marja</td>\n",
       "      <td>2015-05-01 10:25:39+00:00</td>\n",
       "      <td>0 days 00:12:59</td>\n",
       "      <td>NaN</td>\n",
       "      <td>Monsters University</td>\n",
       "      <td>NaN</td>\n",
       "      <td>Panasonic BD 2014 MT8561 Blu-ray Player</td>\n",
       "      <td>00:13:01</td>\n",
       "      <td>Not latest view</td>\n",
       "      <td>NL (Netherlands)</td>\n",
       "    </tr>\n",
       "    <tr>\n",
       "      <th>17608</th>\n",
       "      <td>Marja</td>\n",
       "      <td>2015-05-01 15:40:35+00:00</td>\n",
       "      <td>0 days 00:00:19</td>\n",
       "      <td>NaN</td>\n",
       "      <td>Maleficent</td>\n",
       "      <td>NaN</td>\n",
       "      <td>Panasonic BD 2014 MT8561 Blu-ray Player</td>\n",
       "      <td>00:00:11</td>\n",
       "      <td>00:00:11</td>\n",
       "      <td>NL (Netherlands)</td>\n",
       "    </tr>\n",
       "    <tr>\n",
       "      <th>...</th>\n",
       "      <td>...</td>\n",
       "      <td>...</td>\n",
       "      <td>...</td>\n",
       "      <td>...</td>\n",
       "      <td>...</td>\n",
       "      <td>...</td>\n",
       "      <td>...</td>\n",
       "      <td>...</td>\n",
       "      <td>...</td>\n",
       "      <td>...</td>\n",
       "    </tr>\n",
       "    <tr>\n",
       "      <th>6402</th>\n",
       "      <td>Finn</td>\n",
       "      <td>2023-08-21 10:27:00+00:00</td>\n",
       "      <td>0 days 00:00:44</td>\n",
       "      <td>Autoplayed: user action: None;</td>\n",
       "      <td>Seizoen 1 (Teaser): The Lincoln Lawyer</td>\n",
       "      <td>TEASER_TRAILER</td>\n",
       "      <td>Google Sabrina ATV Set Top Box</td>\n",
       "      <td>00:00:44</td>\n",
       "      <td>00:00:44</td>\n",
       "      <td>NL (Netherlands)</td>\n",
       "    </tr>\n",
       "    <tr>\n",
       "      <th>6401</th>\n",
       "      <td>Finn</td>\n",
       "      <td>2023-08-21 10:27:59+00:00</td>\n",
       "      <td>0 days 00:00:07</td>\n",
       "      <td>Autoplayed: user action: None;</td>\n",
       "      <td>The Memory Game_hook_04_16x9</td>\n",
       "      <td>HOOK</td>\n",
       "      <td>Google Sabrina ATV Set Top Box</td>\n",
       "      <td>00:00:08</td>\n",
       "      <td>00:00:08</td>\n",
       "      <td>NL (Netherlands)</td>\n",
       "    </tr>\n",
       "    <tr>\n",
       "      <th>6400</th>\n",
       "      <td>Finn</td>\n",
       "      <td>2023-08-21 10:28:14+00:00</td>\n",
       "      <td>0 days 00:00:01</td>\n",
       "      <td>Autoplayed: user action: None;</td>\n",
       "      <td>A Man Called Otto</td>\n",
       "      <td>NaN</td>\n",
       "      <td>Google Sabrina ATV Set Top Box</td>\n",
       "      <td>00:00:01</td>\n",
       "      <td>00:00:01</td>\n",
       "      <td>NL (Netherlands)</td>\n",
       "    </tr>\n",
       "    <tr>\n",
       "      <th>6399</th>\n",
       "      <td>Finn</td>\n",
       "      <td>2023-08-21 10:28:34+00:00</td>\n",
       "      <td>0 days 00:00:37</td>\n",
       "      <td>Autoplayed: user action: None;</td>\n",
       "      <td>Teaser: Avatar: The Last Airbender</td>\n",
       "      <td>TEASER_TRAILER</td>\n",
       "      <td>Google Sabrina ATV Set Top Box</td>\n",
       "      <td>00:00:37</td>\n",
       "      <td>00:00:37</td>\n",
       "      <td>NL (Netherlands)</td>\n",
       "    </tr>\n",
       "    <tr>\n",
       "      <th>0</th>\n",
       "      <td>Boo</td>\n",
       "      <td>2023-08-21 10:33:44+00:00</td>\n",
       "      <td>0 days 00:16:45</td>\n",
       "      <td>NaN</td>\n",
       "      <td>Sweet Tooth: Seizoen 2: In Captivity (Afleveri...</td>\n",
       "      <td>NaN</td>\n",
       "      <td>Chrome PC (Cadmium)</td>\n",
       "      <td>00:34:01</td>\n",
       "      <td>00:34:01</td>\n",
       "      <td>NL (Netherlands)</td>\n",
       "    </tr>\n",
       "  </tbody>\n",
       "</table>\n",
       "<p>21597 rows × 10 columns</p>\n",
       "</div>"
      ],
      "text/plain": [
       "      Profile Name                Start Time        Duration  \\\n",
       "17612        Marja 2015-05-01 09:57:47+00:00 0 days 00:13:16   \n",
       "17611        Marja 2015-05-01 10:23:55+00:00 0 days 00:01:11   \n",
       "17610        Marja 2015-05-01 10:25:21+00:00 0 days 00:00:05   \n",
       "17609        Marja 2015-05-01 10:25:39+00:00 0 days 00:12:59   \n",
       "17608        Marja 2015-05-01 15:40:35+00:00 0 days 00:00:19   \n",
       "...            ...                       ...             ...   \n",
       "6402          Finn 2023-08-21 10:27:00+00:00 0 days 00:00:44   \n",
       "6401          Finn 2023-08-21 10:27:59+00:00 0 days 00:00:07   \n",
       "6400          Finn 2023-08-21 10:28:14+00:00 0 days 00:00:01   \n",
       "6399          Finn 2023-08-21 10:28:34+00:00 0 days 00:00:37   \n",
       "0              Boo 2023-08-21 10:33:44+00:00 0 days 00:16:45   \n",
       "\n",
       "                            Attributes  \\\n",
       "17612                              NaN   \n",
       "17611                              NaN   \n",
       "17610                              NaN   \n",
       "17609                              NaN   \n",
       "17608                              NaN   \n",
       "...                                ...   \n",
       "6402   Autoplayed: user action: None;    \n",
       "6401   Autoplayed: user action: None;    \n",
       "6400   Autoplayed: user action: None;    \n",
       "6399   Autoplayed: user action: None;    \n",
       "0                                  NaN   \n",
       "\n",
       "                                                   Title  \\\n",
       "17612                                         Maleficent   \n",
       "17611                                Monsters University   \n",
       "17610                                Monsters University   \n",
       "17609                                Monsters University   \n",
       "17608                                         Maleficent   \n",
       "...                                                  ...   \n",
       "6402              Seizoen 1 (Teaser): The Lincoln Lawyer   \n",
       "6401                        The Memory Game_hook_04_16x9   \n",
       "6400                                   A Man Called Otto   \n",
       "6399                  Teaser: Avatar: The Last Airbender   \n",
       "0      Sweet Tooth: Seizoen 2: In Captivity (Afleveri...   \n",
       "\n",
       "      Supplemental Video Type                              Device Type  \\\n",
       "17612                     NaN  Panasonic BD 2014 MT8561 Blu-ray Player   \n",
       "17611                     NaN  Panasonic BD 2014 MT8561 Blu-ray Player   \n",
       "17610                     NaN  Panasonic BD 2014 MT8561 Blu-ray Player   \n",
       "17609                     NaN  Panasonic BD 2014 MT8561 Blu-ray Player   \n",
       "17608                     NaN  Panasonic BD 2014 MT8561 Blu-ray Player   \n",
       "...                       ...                                      ...   \n",
       "6402           TEASER_TRAILER           Google Sabrina ATV Set Top Box   \n",
       "6401                     HOOK           Google Sabrina ATV Set Top Box   \n",
       "6400                      NaN           Google Sabrina ATV Set Top Box   \n",
       "6399           TEASER_TRAILER           Google Sabrina ATV Set Top Box   \n",
       "0                         NaN                      Chrome PC (Cadmium)   \n",
       "\n",
       "       Bookmark  Latest Bookmark           Country  \n",
       "17612  00:09:06  Not latest view  NL (Netherlands)  \n",
       "17611  00:01:11  Not latest view  NL (Netherlands)  \n",
       "17610  00:00:05  Not latest view  NL (Netherlands)  \n",
       "17609  00:13:01  Not latest view  NL (Netherlands)  \n",
       "17608  00:00:11         00:00:11  NL (Netherlands)  \n",
       "...         ...              ...               ...  \n",
       "6402   00:00:44         00:00:44  NL (Netherlands)  \n",
       "6401   00:00:08         00:00:08  NL (Netherlands)  \n",
       "6400   00:00:01         00:00:01  NL (Netherlands)  \n",
       "6399   00:00:37         00:00:37  NL (Netherlands)  \n",
       "0      00:34:01         00:34:01  NL (Netherlands)  \n",
       "\n",
       "[21597 rows x 10 columns]"
      ]
     },
     "execution_count": 221,
     "metadata": {},
     "output_type": "execute_result"
    }
   ],
   "source": [
    "df.sort_values('Start Time')"
   ]
  },
  {
   "cell_type": "markdown",
   "metadata": {},
   "source": [
    "Which Profile watched the most (time)?"
   ]
  },
  {
   "cell_type": "code",
   "execution_count": 222,
   "metadata": {},
   "outputs": [
    {
     "data": {
      "text/plain": [
       "Timedelta('364 days 23:41:52')"
      ]
     },
     "execution_count": 222,
     "metadata": {},
     "output_type": "execute_result"
    }
   ],
   "source": [
    "df['Duration'].sum()"
   ]
  },
  {
   "cell_type": "markdown",
   "metadata": {},
   "source": [
    "Loged data"
   ]
  },
  {
   "cell_type": "code",
   "execution_count": 223,
   "metadata": {},
   "outputs": [
    {
     "data": {
      "text/html": [
       "<div>\n",
       "<style scoped>\n",
       "    .dataframe tbody tr th:only-of-type {\n",
       "        vertical-align: middle;\n",
       "    }\n",
       "\n",
       "    .dataframe tbody tr th {\n",
       "        vertical-align: top;\n",
       "    }\n",
       "\n",
       "    .dataframe thead th {\n",
       "        text-align: right;\n",
       "    }\n",
       "</style>\n",
       "<table border=\"1\" class=\"dataframe\">\n",
       "  <thead>\n",
       "    <tr style=\"text-align: right;\">\n",
       "      <th></th>\n",
       "      <th>Profile Name</th>\n",
       "      <th>Start Time</th>\n",
       "      <th>Duration</th>\n",
       "      <th>Attributes</th>\n",
       "      <th>Title</th>\n",
       "      <th>Supplemental Video Type</th>\n",
       "      <th>Device Type</th>\n",
       "      <th>Bookmark</th>\n",
       "      <th>Latest Bookmark</th>\n",
       "      <th>Country</th>\n",
       "    </tr>\n",
       "  </thead>\n",
       "  <tbody>\n",
       "    <tr>\n",
       "      <th>17612</th>\n",
       "      <td>Marja</td>\n",
       "      <td>2015-05-01 09:57:47+00:00</td>\n",
       "      <td>0 days 00:13:16</td>\n",
       "      <td>NaN</td>\n",
       "      <td>Maleficent</td>\n",
       "      <td>NaN</td>\n",
       "      <td>Panasonic BD 2014 MT8561 Blu-ray Player</td>\n",
       "      <td>00:09:06</td>\n",
       "      <td>Not latest view</td>\n",
       "      <td>NL (Netherlands)</td>\n",
       "    </tr>\n",
       "    <tr>\n",
       "      <th>17611</th>\n",
       "      <td>Marja</td>\n",
       "      <td>2015-05-01 10:23:55+00:00</td>\n",
       "      <td>0 days 00:01:11</td>\n",
       "      <td>NaN</td>\n",
       "      <td>Monsters University</td>\n",
       "      <td>NaN</td>\n",
       "      <td>Panasonic BD 2014 MT8561 Blu-ray Player</td>\n",
       "      <td>00:01:11</td>\n",
       "      <td>Not latest view</td>\n",
       "      <td>NL (Netherlands)</td>\n",
       "    </tr>\n",
       "    <tr>\n",
       "      <th>17610</th>\n",
       "      <td>Marja</td>\n",
       "      <td>2015-05-01 10:25:21+00:00</td>\n",
       "      <td>0 days 00:00:05</td>\n",
       "      <td>NaN</td>\n",
       "      <td>Monsters University</td>\n",
       "      <td>NaN</td>\n",
       "      <td>Panasonic BD 2014 MT8561 Blu-ray Player</td>\n",
       "      <td>00:00:05</td>\n",
       "      <td>Not latest view</td>\n",
       "      <td>NL (Netherlands)</td>\n",
       "    </tr>\n",
       "    <tr>\n",
       "      <th>17609</th>\n",
       "      <td>Marja</td>\n",
       "      <td>2015-05-01 10:25:39+00:00</td>\n",
       "      <td>0 days 00:12:59</td>\n",
       "      <td>NaN</td>\n",
       "      <td>Monsters University</td>\n",
       "      <td>NaN</td>\n",
       "      <td>Panasonic BD 2014 MT8561 Blu-ray Player</td>\n",
       "      <td>00:13:01</td>\n",
       "      <td>Not latest view</td>\n",
       "      <td>NL (Netherlands)</td>\n",
       "    </tr>\n",
       "    <tr>\n",
       "      <th>17608</th>\n",
       "      <td>Marja</td>\n",
       "      <td>2015-05-01 15:40:35+00:00</td>\n",
       "      <td>0 days 00:00:19</td>\n",
       "      <td>NaN</td>\n",
       "      <td>Maleficent</td>\n",
       "      <td>NaN</td>\n",
       "      <td>Panasonic BD 2014 MT8561 Blu-ray Player</td>\n",
       "      <td>00:00:11</td>\n",
       "      <td>00:00:11</td>\n",
       "      <td>NL (Netherlands)</td>\n",
       "    </tr>\n",
       "    <tr>\n",
       "      <th>...</th>\n",
       "      <td>...</td>\n",
       "      <td>...</td>\n",
       "      <td>...</td>\n",
       "      <td>...</td>\n",
       "      <td>...</td>\n",
       "      <td>...</td>\n",
       "      <td>...</td>\n",
       "      <td>...</td>\n",
       "      <td>...</td>\n",
       "      <td>...</td>\n",
       "    </tr>\n",
       "    <tr>\n",
       "      <th>6402</th>\n",
       "      <td>Finn</td>\n",
       "      <td>2023-08-21 10:27:00+00:00</td>\n",
       "      <td>0 days 00:00:44</td>\n",
       "      <td>Autoplayed: user action: None;</td>\n",
       "      <td>Seizoen 1 (Teaser): The Lincoln Lawyer</td>\n",
       "      <td>TEASER_TRAILER</td>\n",
       "      <td>Google Sabrina ATV Set Top Box</td>\n",
       "      <td>00:00:44</td>\n",
       "      <td>00:00:44</td>\n",
       "      <td>NL (Netherlands)</td>\n",
       "    </tr>\n",
       "    <tr>\n",
       "      <th>6401</th>\n",
       "      <td>Finn</td>\n",
       "      <td>2023-08-21 10:27:59+00:00</td>\n",
       "      <td>0 days 00:00:07</td>\n",
       "      <td>Autoplayed: user action: None;</td>\n",
       "      <td>The Memory Game_hook_04_16x9</td>\n",
       "      <td>HOOK</td>\n",
       "      <td>Google Sabrina ATV Set Top Box</td>\n",
       "      <td>00:00:08</td>\n",
       "      <td>00:00:08</td>\n",
       "      <td>NL (Netherlands)</td>\n",
       "    </tr>\n",
       "    <tr>\n",
       "      <th>6400</th>\n",
       "      <td>Finn</td>\n",
       "      <td>2023-08-21 10:28:14+00:00</td>\n",
       "      <td>0 days 00:00:01</td>\n",
       "      <td>Autoplayed: user action: None;</td>\n",
       "      <td>A Man Called Otto</td>\n",
       "      <td>NaN</td>\n",
       "      <td>Google Sabrina ATV Set Top Box</td>\n",
       "      <td>00:00:01</td>\n",
       "      <td>00:00:01</td>\n",
       "      <td>NL (Netherlands)</td>\n",
       "    </tr>\n",
       "    <tr>\n",
       "      <th>6399</th>\n",
       "      <td>Finn</td>\n",
       "      <td>2023-08-21 10:28:34+00:00</td>\n",
       "      <td>0 days 00:00:37</td>\n",
       "      <td>Autoplayed: user action: None;</td>\n",
       "      <td>Teaser: Avatar: The Last Airbender</td>\n",
       "      <td>TEASER_TRAILER</td>\n",
       "      <td>Google Sabrina ATV Set Top Box</td>\n",
       "      <td>00:00:37</td>\n",
       "      <td>00:00:37</td>\n",
       "      <td>NL (Netherlands)</td>\n",
       "    </tr>\n",
       "    <tr>\n",
       "      <th>0</th>\n",
       "      <td>Boo</td>\n",
       "      <td>2023-08-21 10:33:44+00:00</td>\n",
       "      <td>0 days 00:16:45</td>\n",
       "      <td>NaN</td>\n",
       "      <td>Sweet Tooth: Seizoen 2: In Captivity (Afleveri...</td>\n",
       "      <td>NaN</td>\n",
       "      <td>Chrome PC (Cadmium)</td>\n",
       "      <td>00:34:01</td>\n",
       "      <td>00:34:01</td>\n",
       "      <td>NL (Netherlands)</td>\n",
       "    </tr>\n",
       "  </tbody>\n",
       "</table>\n",
       "<p>21597 rows × 10 columns</p>\n",
       "</div>"
      ],
      "text/plain": [
       "      Profile Name                Start Time        Duration  \\\n",
       "17612        Marja 2015-05-01 09:57:47+00:00 0 days 00:13:16   \n",
       "17611        Marja 2015-05-01 10:23:55+00:00 0 days 00:01:11   \n",
       "17610        Marja 2015-05-01 10:25:21+00:00 0 days 00:00:05   \n",
       "17609        Marja 2015-05-01 10:25:39+00:00 0 days 00:12:59   \n",
       "17608        Marja 2015-05-01 15:40:35+00:00 0 days 00:00:19   \n",
       "...            ...                       ...             ...   \n",
       "6402          Finn 2023-08-21 10:27:00+00:00 0 days 00:00:44   \n",
       "6401          Finn 2023-08-21 10:27:59+00:00 0 days 00:00:07   \n",
       "6400          Finn 2023-08-21 10:28:14+00:00 0 days 00:00:01   \n",
       "6399          Finn 2023-08-21 10:28:34+00:00 0 days 00:00:37   \n",
       "0              Boo 2023-08-21 10:33:44+00:00 0 days 00:16:45   \n",
       "\n",
       "                            Attributes  \\\n",
       "17612                              NaN   \n",
       "17611                              NaN   \n",
       "17610                              NaN   \n",
       "17609                              NaN   \n",
       "17608                              NaN   \n",
       "...                                ...   \n",
       "6402   Autoplayed: user action: None;    \n",
       "6401   Autoplayed: user action: None;    \n",
       "6400   Autoplayed: user action: None;    \n",
       "6399   Autoplayed: user action: None;    \n",
       "0                                  NaN   \n",
       "\n",
       "                                                   Title  \\\n",
       "17612                                         Maleficent   \n",
       "17611                                Monsters University   \n",
       "17610                                Monsters University   \n",
       "17609                                Monsters University   \n",
       "17608                                         Maleficent   \n",
       "...                                                  ...   \n",
       "6402              Seizoen 1 (Teaser): The Lincoln Lawyer   \n",
       "6401                        The Memory Game_hook_04_16x9   \n",
       "6400                                   A Man Called Otto   \n",
       "6399                  Teaser: Avatar: The Last Airbender   \n",
       "0      Sweet Tooth: Seizoen 2: In Captivity (Afleveri...   \n",
       "\n",
       "      Supplemental Video Type                              Device Type  \\\n",
       "17612                     NaN  Panasonic BD 2014 MT8561 Blu-ray Player   \n",
       "17611                     NaN  Panasonic BD 2014 MT8561 Blu-ray Player   \n",
       "17610                     NaN  Panasonic BD 2014 MT8561 Blu-ray Player   \n",
       "17609                     NaN  Panasonic BD 2014 MT8561 Blu-ray Player   \n",
       "17608                     NaN  Panasonic BD 2014 MT8561 Blu-ray Player   \n",
       "...                       ...                                      ...   \n",
       "6402           TEASER_TRAILER           Google Sabrina ATV Set Top Box   \n",
       "6401                     HOOK           Google Sabrina ATV Set Top Box   \n",
       "6400                      NaN           Google Sabrina ATV Set Top Box   \n",
       "6399           TEASER_TRAILER           Google Sabrina ATV Set Top Box   \n",
       "0                         NaN                      Chrome PC (Cadmium)   \n",
       "\n",
       "       Bookmark  Latest Bookmark           Country  \n",
       "17612  00:09:06  Not latest view  NL (Netherlands)  \n",
       "17611  00:01:11  Not latest view  NL (Netherlands)  \n",
       "17610  00:00:05  Not latest view  NL (Netherlands)  \n",
       "17609  00:13:01  Not latest view  NL (Netherlands)  \n",
       "17608  00:00:11         00:00:11  NL (Netherlands)  \n",
       "...         ...              ...               ...  \n",
       "6402   00:00:44         00:00:44  NL (Netherlands)  \n",
       "6401   00:00:08         00:00:08  NL (Netherlands)  \n",
       "6400   00:00:01         00:00:01  NL (Netherlands)  \n",
       "6399   00:00:37         00:00:37  NL (Netherlands)  \n",
       "0      00:34:01         00:34:01  NL (Netherlands)  \n",
       "\n",
       "[21597 rows x 10 columns]"
      ]
     },
     "execution_count": 223,
     "metadata": {},
     "output_type": "execute_result"
    }
   ],
   "source": [
    "df.sort_values('Start Time')"
   ]
  },
  {
   "cell_type": "markdown",
   "metadata": {},
   "source": [
    "The data into seconds"
   ]
  },
  {
   "cell_type": "code",
   "execution_count": 224,
   "metadata": {},
   "outputs": [
    {
     "data": {
      "text/plain": [
       "8266022.0"
      ]
     },
     "execution_count": 224,
     "metadata": {},
     "output_type": "execute_result"
    }
   ],
   "source": [
    "df.loc[df['Profile Name']=='Boo','Duration'].astype('timedelta64[s]').sum()"
   ]
  },
  {
   "cell_type": "markdown",
   "metadata": {},
   "source": [
    "The vieuw time per profile in seconds"
   ]
  },
  {
   "cell_type": "code",
   "execution_count": 225,
   "metadata": {},
   "outputs": [
    {
     "data": {
      "text/plain": [
       "{'Boo': 8266022.0,\n",
       " 'Finn': 9678476.0,\n",
       " 'Marja': 5608972.0,\n",
       " 'Marjanne': 349363.0,\n",
       " 'Ronald ': 7632079.0}"
      ]
     },
     "execution_count": 225,
     "metadata": {},
     "output_type": "execute_result"
    }
   ],
   "source": [
    "viewTime = {}\n",
    "viewTime.update({\"Boo\": df.loc[df['Profile Name']=='Boo','Duration'].astype('timedelta64[s]').sum()})\n",
    "viewTime.update({\"Finn\": df.loc[df['Profile Name']=='Finn','Duration'].astype('timedelta64[s]').sum()})\n",
    "viewTime.update({\"Marja\": df.loc[df['Profile Name']=='Marja','Duration'].astype('timedelta64[s]').sum()})\n",
    "viewTime.update({\"Marjanne\": df.loc[df['Profile Name']=='Marjanne','Duration'].astype('timedelta64[s]').sum()})\n",
    "viewTime.update({\"Ronald \": df.loc[df['Profile Name']=='Ronald ','Duration'].astype('timedelta64[s]').sum()})\n",
    "viewTime"
   ]
  },
  {
   "cell_type": "markdown",
   "metadata": {},
   "source": [
    "Plotting the data"
   ]
  },
  {
   "cell_type": "code",
   "execution_count": 226,
   "metadata": {},
   "outputs": [
    {
     "data": {
      "image/png": "[encoded data removed]",
      "text/plain": [
       "<Figure size 640x480 with 1 Axes>"
      ]
     },
     "metadata": {},
     "output_type": "display_data"
    }
   ],
   "source": [
    "%matplotlib inline\n",
    "import matplotlib\n",
    "import matplotlib.pyplot as plt\n",
    "plt.bar(*zip(*viewTime.items()))\n",
    "plt.show()"
   ]
  },
  {
   "cell_type": "markdown",
   "metadata": {},
   "source": [
    "What is the average watching time (per Profile)?"
   ]
  },
  {
   "cell_type": "code",
   "execution_count": 227,
   "metadata": {},
   "outputs": [
    {
     "data": {
      "text/plain": [
       "Finn        7738\n",
       "Boo         6399\n",
       "Ronald      3736\n",
       "Marja       3476\n",
       "Marjanne     248\n",
       "Name: Profile Name, dtype: int64"
      ]
     },
     "execution_count": 227,
     "metadata": {},
     "output_type": "execute_result"
    }
   ],
   "source": [
    "df['Profile Name'].value_counts()"
   ]
  },
  {
   "cell_type": "markdown",
   "metadata": {},
   "source": [
    "What type of video's?"
   ]
  },
  {
   "cell_type": "code",
   "execution_count": 228,
   "metadata": {},
   "outputs": [
    {
     "data": {
      "text/plain": [
       "HOOK              464\n",
       "TRAILER           390\n",
       "TEASER_TRAILER     48\n",
       "RECAP               4\n",
       "Name: Supplemental Video Type, dtype: int64"
      ]
     },
     "execution_count": 228,
     "metadata": {},
     "output_type": "execute_result"
    }
   ],
   "source": [
    "df['Supplemental Video Type'].value_counts()"
   ]
  },
  {
   "cell_type": "markdown",
   "metadata": {},
   "source": [
    "Getting a sample"
   ]
  },
  {
   "cell_type": "code",
   "execution_count": 229,
   "metadata": {},
   "outputs": [
    {
     "data": {
      "text/html": [
       "<div>\n",
       "<style scoped>\n",
       "    .dataframe tbody tr th:only-of-type {\n",
       "        vertical-align: middle;\n",
       "    }\n",
       "\n",
       "    .dataframe tbody tr th {\n",
       "        vertical-align: top;\n",
       "    }\n",
       "\n",
       "    .dataframe thead th {\n",
       "        text-align: right;\n",
       "    }\n",
       "</style>\n",
       "<table border=\"1\" class=\"dataframe\">\n",
       "  <thead>\n",
       "    <tr style=\"text-align: right;\">\n",
       "      <th></th>\n",
       "      <th>Profile Name</th>\n",
       "      <th>Start Time</th>\n",
       "      <th>Duration</th>\n",
       "      <th>Attributes</th>\n",
       "      <th>Title</th>\n",
       "      <th>Supplemental Video Type</th>\n",
       "      <th>Device Type</th>\n",
       "      <th>Bookmark</th>\n",
       "      <th>Latest Bookmark</th>\n",
       "      <th>Country</th>\n",
       "    </tr>\n",
       "  </thead>\n",
       "  <tbody>\n",
       "    <tr>\n",
       "      <th>0</th>\n",
       "      <td>Boo</td>\n",
       "      <td>2023-08-21 10:33:44+00:00</td>\n",
       "      <td>0 days 00:16:45</td>\n",
       "      <td>NaN</td>\n",
       "      <td>Sweet Tooth: Seizoen 2: In Captivity (Afleveri...</td>\n",
       "      <td>NaN</td>\n",
       "      <td>Chrome PC (Cadmium)</td>\n",
       "      <td>00:34:01</td>\n",
       "      <td>00:34:01</td>\n",
       "      <td>NL (Netherlands)</td>\n",
       "    </tr>\n",
       "    <tr>\n",
       "      <th>1</th>\n",
       "      <td>Boo</td>\n",
       "      <td>2023-08-21 10:08:56+00:00</td>\n",
       "      <td>0 days 00:17:04</td>\n",
       "      <td>NaN</td>\n",
       "      <td>Sweet Tooth: Seizoen 2: In Captivity (Afleveri...</td>\n",
       "      <td>NaN</td>\n",
       "      <td>Chrome PC (Cadmium)</td>\n",
       "      <td>00:17:16</td>\n",
       "      <td>Not latest view</td>\n",
       "      <td>NL (Netherlands)</td>\n",
       "    </tr>\n",
       "    <tr>\n",
       "      <th>3</th>\n",
       "      <td>Boo</td>\n",
       "      <td>2023-08-21 10:05:20+00:00</td>\n",
       "      <td>0 days 00:00:12</td>\n",
       "      <td>NaN</td>\n",
       "      <td>Sweet Tooth: Seizoen 2: In Captivity (Afleveri...</td>\n",
       "      <td>NaN</td>\n",
       "      <td>Chrome PC (Cadmium)</td>\n",
       "      <td>00:00:12</td>\n",
       "      <td>Not latest view</td>\n",
       "      <td>NL (Netherlands)</td>\n",
       "    </tr>\n",
       "    <tr>\n",
       "      <th>6</th>\n",
       "      <td>Boo</td>\n",
       "      <td>2023-06-21 20:58:24+00:00</td>\n",
       "      <td>0 days 00:00:03</td>\n",
       "      <td>Autoplayed: user action: None;</td>\n",
       "      <td>The Confession Killer: Miniserie: War in Waco ...</td>\n",
       "      <td>NaN</td>\n",
       "      <td>Chrome PC (Cadmium)</td>\n",
       "      <td>00:00:09</td>\n",
       "      <td>00:00:09</td>\n",
       "      <td>NL (Netherlands)</td>\n",
       "    </tr>\n",
       "    <tr>\n",
       "      <th>7</th>\n",
       "      <td>Boo</td>\n",
       "      <td>2023-06-21 20:45:17+00:00</td>\n",
       "      <td>0 days 00:11:38</td>\n",
       "      <td>NaN</td>\n",
       "      <td>The Confession Killer: Miniserie: Doe maar aar...</td>\n",
       "      <td>NaN</td>\n",
       "      <td>Chrome PC (Cadmium)</td>\n",
       "      <td>00:47:42</td>\n",
       "      <td>00:47:42</td>\n",
       "      <td>NL (Netherlands)</td>\n",
       "    </tr>\n",
       "    <tr>\n",
       "      <th>...</th>\n",
       "      <td>...</td>\n",
       "      <td>...</td>\n",
       "      <td>...</td>\n",
       "      <td>...</td>\n",
       "      <td>...</td>\n",
       "      <td>...</td>\n",
       "      <td>...</td>\n",
       "      <td>...</td>\n",
       "      <td>...</td>\n",
       "      <td>...</td>\n",
       "    </tr>\n",
       "    <tr>\n",
       "      <th>21592</th>\n",
       "      <td>Ronald</td>\n",
       "      <td>2017-05-01 19:31:22+00:00</td>\n",
       "      <td>0 days 00:03:38</td>\n",
       "      <td>NaN</td>\n",
       "      <td>13 Reasons Why: Seizoen 1: Tape 1, Side A (Afl...</td>\n",
       "      <td>NaN</td>\n",
       "      <td>Samsung 2016 Jazz-L UHD TV Smart TV</td>\n",
       "      <td>00:09:54</td>\n",
       "      <td>00:09:54</td>\n",
       "      <td>NL (Netherlands)</td>\n",
       "    </tr>\n",
       "    <tr>\n",
       "      <th>21593</th>\n",
       "      <td>Ronald</td>\n",
       "      <td>2017-04-23 21:49:31+00:00</td>\n",
       "      <td>0 days 00:00:09</td>\n",
       "      <td>NaN</td>\n",
       "      <td>Moving Art: Seizoen 1: Flowers (Aflevering 2)</td>\n",
       "      <td>NaN</td>\n",
       "      <td>Samsung 2016 Jazz-L UHD TV Smart TV</td>\n",
       "      <td>00:00:09</td>\n",
       "      <td>Not latest view</td>\n",
       "      <td>NL (Netherlands)</td>\n",
       "    </tr>\n",
       "    <tr>\n",
       "      <th>21594</th>\n",
       "      <td>Ronald</td>\n",
       "      <td>2017-04-23 21:49:17+00:00</td>\n",
       "      <td>0 days 00:00:06</td>\n",
       "      <td>NaN</td>\n",
       "      <td>Moving Art: Seizoen 1: Oceans (Aflevering 1)</td>\n",
       "      <td>NaN</td>\n",
       "      <td>Samsung 2016 Jazz-L UHD TV Smart TV</td>\n",
       "      <td>00:00:06</td>\n",
       "      <td>00:00:06</td>\n",
       "      <td>NL (Netherlands)</td>\n",
       "    </tr>\n",
       "    <tr>\n",
       "      <th>21595</th>\n",
       "      <td>Ronald</td>\n",
       "      <td>2017-04-23 21:49:01+00:00</td>\n",
       "      <td>0 days 00:00:08</td>\n",
       "      <td>Autoplayed: user action: None;</td>\n",
       "      <td>Moving Art: Seizoen 1: Oceans (Aflevering 1)</td>\n",
       "      <td>NaN</td>\n",
       "      <td>Samsung 2016 Jazz-L UHD TV Smart TV</td>\n",
       "      <td>00:00:08</td>\n",
       "      <td>Not latest view</td>\n",
       "      <td>NL (Netherlands)</td>\n",
       "    </tr>\n",
       "    <tr>\n",
       "      <th>21596</th>\n",
       "      <td>Ronald</td>\n",
       "      <td>2017-04-03 08:52:53+00:00</td>\n",
       "      <td>0 days 00:01:47</td>\n",
       "      <td>NaN</td>\n",
       "      <td>The Proposal</td>\n",
       "      <td>NaN</td>\n",
       "      <td>Apple TV 3 (revised)</td>\n",
       "      <td>00:01:47</td>\n",
       "      <td>00:01:47</td>\n",
       "      <td>NL (Netherlands)</td>\n",
       "    </tr>\n",
       "  </tbody>\n",
       "</table>\n",
       "<p>20691 rows × 10 columns</p>\n",
       "</div>"
      ],
      "text/plain": [
       "      Profile Name                Start Time        Duration  \\\n",
       "0              Boo 2023-08-21 10:33:44+00:00 0 days 00:16:45   \n",
       "1              Boo 2023-08-21 10:08:56+00:00 0 days 00:17:04   \n",
       "3              Boo 2023-08-21 10:05:20+00:00 0 days 00:00:12   \n",
       "6              Boo 2023-06-21 20:58:24+00:00 0 days 00:00:03   \n",
       "7              Boo 2023-06-21 20:45:17+00:00 0 days 00:11:38   \n",
       "...            ...                       ...             ...   \n",
       "21592      Ronald  2017-05-01 19:31:22+00:00 0 days 00:03:38   \n",
       "21593      Ronald  2017-04-23 21:49:31+00:00 0 days 00:00:09   \n",
       "21594      Ronald  2017-04-23 21:49:17+00:00 0 days 00:00:06   \n",
       "21595      Ronald  2017-04-23 21:49:01+00:00 0 days 00:00:08   \n",
       "21596      Ronald  2017-04-03 08:52:53+00:00 0 days 00:01:47   \n",
       "\n",
       "                            Attributes  \\\n",
       "0                                  NaN   \n",
       "1                                  NaN   \n",
       "3                                  NaN   \n",
       "6      Autoplayed: user action: None;    \n",
       "7                                  NaN   \n",
       "...                                ...   \n",
       "21592                              NaN   \n",
       "21593                              NaN   \n",
       "21594                              NaN   \n",
       "21595  Autoplayed: user action: None;    \n",
       "21596                              NaN   \n",
       "\n",
       "                                                   Title  \\\n",
       "0      Sweet Tooth: Seizoen 2: In Captivity (Afleveri...   \n",
       "1      Sweet Tooth: Seizoen 2: In Captivity (Afleveri...   \n",
       "3      Sweet Tooth: Seizoen 2: In Captivity (Afleveri...   \n",
       "6      The Confession Killer: Miniserie: War in Waco ...   \n",
       "7      The Confession Killer: Miniserie: Doe maar aar...   \n",
       "...                                                  ...   \n",
       "21592  13 Reasons Why: Seizoen 1: Tape 1, Side A (Afl...   \n",
       "21593      Moving Art: Seizoen 1: Flowers (Aflevering 2)   \n",
       "21594       Moving Art: Seizoen 1: Oceans (Aflevering 1)   \n",
       "21595       Moving Art: Seizoen 1: Oceans (Aflevering 1)   \n",
       "21596                                       The Proposal   \n",
       "\n",
       "      Supplemental Video Type                          Device Type  Bookmark  \\\n",
       "0                         NaN                  Chrome PC (Cadmium)  00:34:01   \n",
       "1                         NaN                  Chrome PC (Cadmium)  00:17:16   \n",
       "3                         NaN                  Chrome PC (Cadmium)  00:00:12   \n",
       "6                         NaN                  Chrome PC (Cadmium)  00:00:09   \n",
       "7                         NaN                  Chrome PC (Cadmium)  00:47:42   \n",
       "...                       ...                                  ...       ...   \n",
       "21592                     NaN  Samsung 2016 Jazz-L UHD TV Smart TV  00:09:54   \n",
       "21593                     NaN  Samsung 2016 Jazz-L UHD TV Smart TV  00:00:09   \n",
       "21594                     NaN  Samsung 2016 Jazz-L UHD TV Smart TV  00:00:06   \n",
       "21595                     NaN  Samsung 2016 Jazz-L UHD TV Smart TV  00:00:08   \n",
       "21596                     NaN                 Apple TV 3 (revised)  00:01:47   \n",
       "\n",
       "       Latest Bookmark           Country  \n",
       "0             00:34:01  NL (Netherlands)  \n",
       "1      Not latest view  NL (Netherlands)  \n",
       "3      Not latest view  NL (Netherlands)  \n",
       "6             00:00:09  NL (Netherlands)  \n",
       "7             00:47:42  NL (Netherlands)  \n",
       "...                ...               ...  \n",
       "21592         00:09:54  NL (Netherlands)  \n",
       "21593  Not latest view  NL (Netherlands)  \n",
       "21594         00:00:06  NL (Netherlands)  \n",
       "21595  Not latest view  NL (Netherlands)  \n",
       "21596         00:01:47  NL (Netherlands)  \n",
       "\n",
       "[20691 rows x 10 columns]"
      ]
     },
     "execution_count": 229,
     "metadata": {},
     "output_type": "execute_result"
    }
   ],
   "source": [
    "df.loc[df['Supplemental Video Type'].isnull()]"
   ]
  },
  {
   "cell_type": "markdown",
   "metadata": {},
   "source": [
    "What is the value now?"
   ]
  },
  {
   "cell_type": "code",
   "execution_count": 230,
   "metadata": {},
   "outputs": [
    {
     "data": {
      "text/plain": [
       "Finn        7738\n",
       "Boo         6399\n",
       "Ronald      3736\n",
       "Marja       3476\n",
       "Marjanne     248\n",
       "Name: Profile Name, dtype: int64"
      ]
     },
     "execution_count": 230,
     "metadata": {},
     "output_type": "execute_result"
    }
   ],
   "source": [
    "df['Profile Name'].value_counts()"
   ]
  },
  {
   "cell_type": "markdown",
   "metadata": {},
   "source": [
    "What devices are used by which Profile? And which device is used the most?"
   ]
  },
  {
   "cell_type": "code",
   "execution_count": 231,
   "metadata": {},
   "outputs": [
    {
     "data": {
      "text/plain": [
       "Samsung 2016 Jazz-L UHD TV Smart TV        7485\n",
       "Apple TV 3 (revised)                       4281\n",
       "Chrome PC (Cadmium)                        2365\n",
       "Apple iPad 2 WiFi                          1872\n",
       "KPN KPNBroadcom Set Top Box                1555\n",
       "LG 2018 LG O18 UHD TV Smart TV             1436\n",
       "Apple iPad 5th Gen (Wi-Fi) iPad             785\n",
       "Apple iPad 10.2 inch 8th Gen Wi-Fi iPad     421\n",
       "Apple iPhone 6                              318\n",
       "iPad Air Wi-Fi                              260\n",
       "Edge OSS - Windows (Cadmium)                193\n",
       "Apple iPhone SE Gen 2 iPhone                157\n",
       "Google Sabrina ATV Set Top Box              156\n",
       "Apple iPhone 4S                             102\n",
       "LG 2018 Mstar LM18A STD UHD TV Smart TV      60\n",
       "Panasonic BD 2014 MT8561 Blu-ray Player      53\n",
       "iPhone 5S CDMA                               50\n",
       "Apple iPhone 11                              15\n",
       "Apple iPhone 7 (GSM)                         11\n",
       "Apple iPad Air 4th Gen Wi-Fi iPad            10\n",
       "KPN BCM72604 MVPD STB                         5\n",
       "Google Chromecast V3 Streaming Stick          4\n",
       "Apple iPad 3rd Gen (Wi-Fi Only) iPad          2\n",
       "Google Chromecast V5 Streaming Stick          1\n",
       "Name: Device Type, dtype: int64"
      ]
     },
     "execution_count": 231,
     "metadata": {},
     "output_type": "execute_result"
    }
   ],
   "source": [
    "df['Device Type'].value_counts()"
   ]
  },
  {
   "cell_type": "markdown",
   "metadata": {},
   "source": [
    "Plotting the data"
   ]
  },
  {
   "cell_type": "code",
   "execution_count": 232,
   "metadata": {},
   "outputs": [
    {
     "data": {
      "image/png": "[encoded data removed]",
      "text/plain": [
       "<Figure size 640x480 with 1 Axes>"
      ]
     },
     "metadata": {},
     "output_type": "display_data"
    }
   ],
   "source": [
    "df['Device Type'].value_counts().plot(kind='bar')\n",
    "plt.show()"
   ]
  },
  {
   "cell_type": "markdown",
   "metadata": {},
   "source": [
    "Getting more info about my profile"
   ]
  },
  {
   "cell_type": "code",
   "execution_count": 233,
   "metadata": {},
   "outputs": [
    {
     "data": {
      "text/plain": [
       "Chrome PC (Cadmium)                        2326\n",
       "Apple TV 3 (revised)                       1005\n",
       "Samsung 2016 Jazz-L UHD TV Smart TV         855\n",
       "Apple iPad 5th Gen (Wi-Fi) iPad             766\n",
       "KPN KPNBroadcom Set Top Box                 550\n",
       "Apple iPad 10.2 inch 8th Gen Wi-Fi iPad     421\n",
       "iPad Air Wi-Fi                              216\n",
       "Edge OSS - Windows (Cadmium)                193\n",
       "iPhone 5S CDMA                               50\n",
       "Apple iPhone 6                                9\n",
       "Panasonic BD 2014 MT8561 Blu-ray Player       3\n",
       "Google Chromecast V3 Streaming Stick          2\n",
       "Apple iPad 2 WiFi                             2\n",
       "Apple iPad 3rd Gen (Wi-Fi Only) iPad          1\n",
       "Name: Device Type, dtype: int64"
      ]
     },
     "execution_count": 233,
     "metadata": {},
     "output_type": "execute_result"
    }
   ],
   "source": [
    "df=df.loc[df['Profile Name'] == 'Boo']\n",
    "df['Device Type'].value_counts()\n"
   ]
  },
  {
   "cell_type": "markdown",
   "metadata": {},
   "source": [
    "Plotting my data"
   ]
  },
  {
   "cell_type": "code",
   "execution_count": 234,
   "metadata": {},
   "outputs": [
    {
     "data": {
      "image/png": "[encoded data removed]",
      "text/plain": [
       "<Figure size 640x480 with 1 Axes>"
      ]
     },
     "metadata": {},
     "output_type": "display_data"
    }
   ],
   "source": [
    "df['Device Type'].value_counts().plot(kind='bar')\n",
    "plt.show()"
   ]
  }
 ],
 "metadata": {
  "kernelspec": {
   "display_name": "Python 3",
   "language": "python",
   "name": "python3"
  },
  "language_info": {
   "codemirror_mode": {
    "name": "ipython",
    "version": 3
   },
   "file_extension": ".py",
   "mimetype": "text/x-python",
   "name": "python",
   "nbconvert_exporter": "python",
   "pygments_lexer": "ipython3",
   "version": "3.10.11"
  },
  "orig_nbformat": 4
 },
 "nbformat": 4,
 "nbformat_minor": 2
}
